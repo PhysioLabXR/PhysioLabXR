{
 "cells": [
  {
   "cell_type": "code",
   "execution_count": 8,
   "outputs": [
    {
     "name": "stdout",
     "output_type": "stream",
     "text": [
      "Keys in the data: dict_keys(['DSI24', 'illumiReadSwypeEventMarkerLSL', 'illumiReadSwypeUserInputLSL', 'VarjoEyeTrackingLSL'])\n"
     ]
    }
   ],
   "source": [
    "import pickle\n",
    "import numpy as np\n",
    "import mne\n",
    "\n",
    "from scipy import signal\n",
    "from scipy.stats import zscore\n",
    "from scipy.interpolate import interp1d\n",
    "\n",
    "# Load the pickle file\n",
    "with open('practice.p', 'rb') as file:\n",
    "    data = pickle.load(file)\n",
    "\n",
    "# Inspect the top-level keys in the data\n",
    "print(\"Keys in the data:\", data.keys())"
   ],
   "metadata": {
    "collapsed": false,
    "pycharm": {
     "name": "#%%\n"
    },
    "ExecuteTime": {
     "end_time": "2024-12-05T20:41:55.874987500Z",
     "start_time": "2024-12-05T20:41:55.831859800Z"
    }
   }
  },
  {
   "cell_type": "code",
   "execution_count": 9,
   "outputs": [
    {
     "name": "stdout",
     "output_type": "stream",
     "text": [
      "EEG Data Structure: <class 'list'>\n",
      "EEG Data Array Shape: (24, 71250)\n",
      "EEG Timestamps Shape: 71250\n",
      "Event Markers Data Structure: <class 'list'>\n",
      "Event Marker Values Shape: (3, 20)\n",
      "Event Marker Timestamps Shape: 20\n",
      "User Input Data Structure: <class 'list'>\n",
      "User Input Array Shape: (11, 15844)\n",
      "User Input Timestamps Shape: 15844\n",
      "Eye Tracking Data Structure: <class 'list'>\n",
      "Eye Tracking Array Shape: (39, 38891)\n",
      "Eye Tracking Timestamps Shape: 38891\n"
     ]
    }
   ],
   "source": [
    "# Inspect DSI24 (EEG data)\n",
    "eeg_data = data['DSI24']\n",
    "print(\"EEG Data Structure:\", type(eeg_data))\n",
    "print(\"EEG Data Array Shape:\", np.array(eeg_data[0]).shape)  # EEG signals\n",
    "print(\"EEG Timestamps Shape:\", len(eeg_data[1]))  # EEG timestamps\n",
    "\n",
    "# Inspect illumiReadSwypeEventMarkerLSL (stimulus markers)\n",
    "event_markers = data['illumiReadSwypeEventMarkerLSL']\n",
    "print(\"Event Markers Data Structure:\", type(event_markers))\n",
    "print(\"Event Marker Values Shape:\", np.array(event_markers[0]).shape)\n",
    "print(\"Event Marker Timestamps Shape:\", len(event_markers[1]))\n",
    "\n",
    "# Inspect illumiReadSwypeUserInputLSL (selection events)\n",
    "user_input = data['illumiReadSwypeUserInputLSL']\n",
    "print(\"User Input Data Structure:\", type(user_input))\n",
    "print(\"User Input Array Shape:\", np.array(user_input[0]).shape)\n",
    "print(\"User Input Timestamps Shape:\", len(user_input[1]))\n",
    "\n",
    "# Inspect VarjoEyeTrackingLSL (eye-tracking data)\n",
    "eye_tracking = data['VarjoEyeTrackingLSL']\n",
    "print(\"Eye Tracking Data Structure:\", type(eye_tracking))\n",
    "print(\"Eye Tracking Array Shape:\", np.array(eye_tracking[0]).shape)\n",
    "print(\"Eye Tracking Timestamps Shape:\", len(eye_tracking[1]))"
   ],
   "metadata": {
    "collapsed": false,
    "pycharm": {
     "name": "#%%\n"
    },
    "ExecuteTime": {
     "end_time": "2024-12-05T20:41:56.497700300Z",
     "start_time": "2024-12-05T20:41:56.458085500Z"
    }
   }
  },
  {
   "cell_type": "code",
   "execution_count": 10,
   "outputs": [
    {
     "name": "stdout",
     "output_type": "stream",
     "text": [
      "EEG Time Range: 61163.35202906667 to 61417.53702906667\n",
      "Event Markers Time Range: 61168.0556045 to 61412.5162805\n",
      "User Input Time Range: 61215.1974676 to 61412.5055186\n",
      "Eye Tracking Time Range: 61214.698143015004 to 61412.495215111\n",
      "Overlap Time Range: 61215.1974676 to 61412.495215111\n"
     ]
    }
   ],
   "source": [
    "# Align timestamps for synchronization\n",
    "eeg_timestamps = np.array(eeg_data[1])  # EEG timestamps\n",
    "event_timestamps = np.array(event_markers[1])  # Event marker timestamps\n",
    "selection_timestamps = np.array(user_input[1])  # User input timestamps\n",
    "eye_tracking_timestamps = np.array(eye_tracking[1])  # Eye tracking timestamps\n",
    "\n",
    "# Print the time range for each dataset\n",
    "print(\"EEG Time Range:\", eeg_timestamps.min(), \"to\", eeg_timestamps.max())\n",
    "print(\"Event Markers Time Range:\", event_timestamps.min(), \"to\", event_timestamps.max())\n",
    "print(\"User Input Time Range:\", selection_timestamps.min(), \"to\", selection_timestamps.max())\n",
    "print(\"Eye Tracking Time Range:\", eye_tracking_timestamps.min(), \"to\", eye_tracking_timestamps.max())\n",
    "\n",
    "# Check for time overlap\n",
    "overlap_start = max(eeg_timestamps.min(), event_timestamps.min(), selection_timestamps.min(), eye_tracking_timestamps.min())\n",
    "overlap_end = min(eeg_timestamps.max(), event_timestamps.max(), selection_timestamps.max(), eye_tracking_timestamps.max())\n",
    "print(\"Overlap Time Range:\", overlap_start, \"to\", overlap_end)"
   ],
   "metadata": {
    "collapsed": false,
    "pycharm": {
     "name": "#%%\n"
    },
    "ExecuteTime": {
     "end_time": "2024-12-05T20:41:56.886855900Z",
     "start_time": "2024-12-05T20:41:56.875361Z"
    }
   }
  },
  {
   "cell_type": "code",
   "execution_count": 11,
   "outputs": [
    {
     "name": "stdout",
     "output_type": "stream",
     "text": [
      "Overlapping EEG Shape: (24, 54192)\n",
      "Overlapping EEG Timestamps Shape: (54192,)\n"
     ]
    }
   ],
   "source": [
    "# Convert EEG data (list of lists/arrays) to a NumPy array\n",
    "eeg_data_array = np.array(eeg_data[0], dtype=float)  # EEG signals as a 2D array (channels × samples)\n",
    "eeg_timestamps_array = np.array(eeg_timestamps, dtype=float)  # Timestamps as a 1D array\n",
    "\n",
    "# Find EEG indices that are within the overlapping time range\n",
    "eeg_indices = np.where((eeg_timestamps_array >= overlap_start) & (eeg_timestamps_array <= overlap_end))[0]\n",
    "\n",
    "# Extract overlapping EEG data and timestamps\n",
    "overlapping_eeg = eeg_data_array[:, eeg_indices]  # Use advanced indexing for NumPy arrays\n",
    "overlapping_timestamps = eeg_timestamps_array[eeg_indices]  # Corresponding timestamps\n",
    "\n",
    "print(\"Overlapping EEG Shape:\", overlapping_eeg.shape)\n",
    "print(\"Overlapping EEG Timestamps Shape:\", overlapping_timestamps.shape)"
   ],
   "metadata": {
    "collapsed": false,
    "pycharm": {
     "name": "#%%\n"
    },
    "ExecuteTime": {
     "end_time": "2024-12-05T20:41:58.119614Z",
     "start_time": "2024-12-05T20:41:57.348685800Z"
    }
   }
  },
  {
   "cell_type": "code",
   "execution_count": 12,
   "outputs": [],
   "source": [
    "def apply_filters(eeg_data, sfreq, lowcut, highcut, notch_freq, timestamps):\n",
    "    \"\"\"Same filtering but preserves timestamps\"\"\"\n",
    "    # Design Butterworth bandpass filter\n",
    "    order = 4\n",
    "    nyquist = sfreq / 2\n",
    "    b, a = signal.butter(order, [lowcut/nyquist, highcut/nyquist], btype='band')\n",
    "\n",
    "    # Apply bandpass filter\n",
    "    filtered_data = signal.filtfilt(b, a, eeg_data, axis=1)\n",
    "\n",
    "    # Design and apply notch filter\n",
    "    notch_b, notch_a = signal.iirnotch(notch_freq, Q=30, fs=sfreq)\n",
    "    filtered_data = signal.filtfilt(notch_b, notch_a, filtered_data, axis=1)\n",
    "\n",
    "    return filtered_data, timestamps\n",
    "\n",
    "def detect_bad_channels(eeg_data, timestamps, z_threshold=3):\n",
    "    \"\"\"Same detection but includes timestamps\"\"\"\n",
    "    channel_std = np.std(eeg_data, axis=1)\n",
    "    channel_range = np.ptp(eeg_data, axis=1)\n",
    "\n",
    "    std_z = zscore(channel_std)\n",
    "    range_z = zscore(channel_range)\n",
    "\n",
    "    bad_channels = np.where((np.abs(std_z) > z_threshold) |\n",
    "                          (np.abs(range_z) > z_threshold))[0]\n",
    "\n",
    "    return bad_channels, timestamps\n",
    "\n",
    "def remove_artifacts(eeg_data, timestamps, threshold_std=5):\n",
    "    \"\"\"Same artifact removal but uses timestamps for interpolation\"\"\"\n",
    "    data_clean = eeg_data.copy()\n",
    "\n",
    "    chan_std = np.std(data_clean, axis=1, keepdims=True)\n",
    "    chan_mean = np.mean(data_clean, axis=1, keepdims=True)\n",
    "\n",
    "    artifact_mask = np.abs(data_clean - chan_mean) > (threshold_std * chan_std)\n",
    "\n",
    "    for chan in range(data_clean.shape[0]):\n",
    "        bad_samples = artifact_mask[chan, :]\n",
    "        good_samples = ~bad_samples\n",
    "        if np.any(bad_samples):\n",
    "            interp_func = interp1d(\n",
    "                timestamps[good_samples],\n",
    "                data_clean[chan, good_samples],\n",
    "                kind='linear',\n",
    "                bounds_error=False,\n",
    "                fill_value='extrapolate'\n",
    "            )\n",
    "            data_clean[chan, bad_samples] = interp_func(timestamps[bad_samples])\n",
    "\n",
    "    return data_clean, timestamps\n",
    "\n",
    "def calculate_signal_quality(eeg_data, timestamps):\n",
    "    \"\"\"Same quality metrics but includes timestamps\"\"\"\n",
    "    signal_power = np.mean(np.square(eeg_data), axis=1)\n",
    "    noise_power = np.var(np.diff(eeg_data, axis=1), axis=1)\n",
    "\n",
    "    epsilon = 1e-10\n",
    "    noise_power = noise_power + epsilon\n",
    "\n",
    "    snr = np.zeros_like(signal_power)\n",
    "    valid_idx = (signal_power > 0) & (noise_power > 0)\n",
    "    snr[valid_idx] = 10 * np.log10(signal_power[valid_idx] / noise_power[valid_idx])\n",
    "\n",
    "    rms = np.sqrt(np.mean(np.square(eeg_data), axis=1))\n",
    "\n",
    "    metrics = {\n",
    "        'SNR': snr,\n",
    "        'RMS': rms,\n",
    "        'Signal_Power': signal_power,\n",
    "        'Noise_Power': noise_power,\n",
    "        'Invalid_Channels': np.where(~valid_idx)[0],\n",
    "        'Time_Range': timestamps[-1] - timestamps[0]  # Added time range info\n",
    "    }\n",
    "\n",
    "    if len(metrics['Invalid_Channels']) > 0:\n",
    "        print(f\"\\nWarning: Found {len(metrics['Invalid_Channels'])} channels with invalid SNR values\")\n",
    "        print(f\"Problematic channels: {metrics['Invalid_Channels']}\")\n",
    "        print(\"These channels might need additional cleaning or inspection\")\n",
    "\n",
    "    return metrics"
   ],
   "metadata": {
    "collapsed": false,
    "pycharm": {
     "name": "#%%\n"
    },
    "ExecuteTime": {
     "end_time": "2024-12-05T20:41:58.158818900Z",
     "start_time": "2024-12-05T20:41:58.126143900Z"
    }
   }
  },
  {
   "cell_type": "code",
   "execution_count": 13,
   "outputs": [
    {
     "name": "stdout",
     "output_type": "stream",
     "text": [
      "Sampling rate: 274.67 Hz\n",
      "Detected bad channels: []\n",
      "\n",
      "Warning: Found 1 channels with invalid SNR values\n",
      "Problematic channels: [20]\n",
      "These channels might need additional cleaning or inspection\n",
      "\n",
      "Signal Quality Metrics:\n",
      "Time range preserved: 197.30 seconds\n",
      "Average SNR across valid channels: 18.63 dB\n",
      "Average RMS amplitude: 115.27 µV\n",
      "Signal Power range: 0.00e+00 to 8.42e+04\n",
      "Noise Power range: 1.00e-10 to 4.36e+02\n",
      "\n",
      "Channel 1:\n",
      "  SNR: 17.56 dB\n",
      "  RMS: 108.34 µV\n",
      "\n",
      "Channel 2:\n",
      "  SNR: 16.15 dB\n",
      "  RMS: 53.00 µV\n",
      "\n",
      "Channel 3:\n",
      "  SNR: 19.82 dB\n",
      "  RMS: 178.56 µV\n",
      "\n",
      "Channel 4:\n",
      "  SNR: 23.96 dB\n",
      "  RMS: 180.64 µV\n",
      "\n",
      "Channel 5:\n",
      "  SNR: 19.02 dB\n",
      "  RMS: 68.66 µV\n",
      "\n",
      "Channel 6:\n",
      "  SNR: 21.22 dB\n",
      "  RMS: 126.40 µV\n",
      "\n",
      "Channel 7:\n",
      "  SNR: 22.11 dB\n",
      "  RMS: 153.96 µV\n",
      "\n",
      "Channel 8:\n",
      "  SNR: 23.17 dB\n",
      "  RMS: 86.30 µV\n",
      "\n",
      "Channel 9:\n",
      "  SNR: 20.76 dB\n",
      "  RMS: 80.39 µV\n",
      "\n",
      "Channel 10:\n",
      "  SNR: 23.86 dB\n",
      "  RMS: 163.29 µV\n",
      "\n",
      "Channel 11:\n",
      "  SNR: 14.04 dB\n",
      "  RMS: 49.64 µV\n",
      "\n",
      "Channel 12:\n",
      "  SNR: 17.79 dB\n",
      "  RMS: 73.23 µV\n",
      "\n",
      "Channel 13:\n",
      "  SNR: 22.22 dB\n",
      "  RMS: 142.05 µV\n",
      "\n",
      "Channel 14:\n",
      "  SNR: 24.32 dB\n",
      "  RMS: 164.13 µV\n",
      "\n",
      "Channel 15:\n",
      "  SNR: 27.46 dB\n",
      "  RMS: 261.09 µV\n",
      "\n",
      "Channel 16:\n",
      "  SNR: 25.12 dB\n",
      "  RMS: 267.51 µV\n",
      "\n",
      "Channel 17:\n",
      "  SNR: 21.48 dB\n",
      "  RMS: 92.76 µV\n",
      "\n",
      "Channel 18:\n",
      "  SNR: 22.86 dB\n",
      "  RMS: 290.17 µV\n",
      "\n",
      "Channel 19:\n",
      "  SNR: 21.73 dB\n",
      "  RMS: 218.46 µV\n",
      "\n",
      "Channel 20:\n",
      "  SNR: 10.80 dB\n",
      "  RMS: 7.52 µV\n",
      "\n",
      "Channel 22:\n",
      "  SNR: 4.19 dB\n",
      "  RMS: 0.11 µV\n",
      "\n",
      "Channel 23:\n",
      "  SNR: 4.48 dB\n",
      "  RMS: 0.11 µV\n",
      "\n",
      "Channel 24:\n",
      "  SNR: 4.48 dB\n",
      "  RMS: 0.11 µV\n"
     ]
    }
   ],
   "source": [
    "# Calculate sampling rate\n",
    "sampling_rate = len(overlapping_eeg[0]) / (overlapping_timestamps[-1] - overlapping_timestamps[0])\n",
    "nyquist = sampling_rate / 2\n",
    "print(f\"Sampling rate: {sampling_rate:.2f} Hz\")\n",
    "\n",
    "# Define filter parameters\n",
    "lowcut = 0.5\n",
    "highcut = 50\n",
    "notch_freq = 60\n",
    "\n",
    "# Apply filters\n",
    "filtered_eeg, filtered_timestamps = apply_filters(overlapping_eeg, sampling_rate, lowcut, highcut, notch_freq, overlapping_timestamps)\n",
    "\n",
    "# Detect bad channels\n",
    "bad_channels, _ = detect_bad_channels(filtered_eeg, filtered_timestamps)\n",
    "print(f\"Detected bad channels: {bad_channels}\")\n",
    "\n",
    "# Remove artifacts\n",
    "clean_eeg, clean_timestamps = remove_artifacts(filtered_eeg, filtered_timestamps)\n",
    "\n",
    "# Calculate metrics\n",
    "quality_metrics = calculate_signal_quality(clean_eeg, clean_timestamps)\n",
    "\n",
    "# Print summary statistics\n",
    "print(\"\\nSignal Quality Metrics:\")\n",
    "print(f\"Time range preserved: {quality_metrics['Time_Range']:.2f} seconds\")\n",
    "print(f\"Average SNR across valid channels: {np.mean(quality_metrics['SNR'][quality_metrics['SNR'] != 0]):.2f} dB\")\n",
    "print(f\"Average RMS amplitude: {np.mean(quality_metrics['RMS']):.2f} µV\")\n",
    "print(f\"Signal Power range: {np.min(quality_metrics['Signal_Power']):.2e} to {np.max(quality_metrics['Signal_Power']):.2e}\")\n",
    "print(f\"Noise Power range: {np.min(quality_metrics['Noise_Power']):.2e} to {np.max(quality_metrics['Noise_Power']):.2e}\")\n",
    "\n",
    "# Channel-specific analysis\n",
    "for i in range(len(quality_metrics['SNR'])):\n",
    "    if quality_metrics['SNR'][i] != 0:\n",
    "        print(f\"\\nChannel {i+1}:\")\n",
    "        print(f\"  SNR: {quality_metrics['SNR'][i]:.2f} dB\")\n",
    "        print(f\"  RMS: {quality_metrics['RMS'][i]:.2f} µV\")"
   ],
   "metadata": {
    "collapsed": false,
    "pycharm": {
     "name": "#%%\n"
    },
    "ExecuteTime": {
     "end_time": "2024-12-05T20:41:59.575358800Z",
     "start_time": "2024-12-05T20:41:59.434751900Z"
    }
   }
  },
  {
   "cell_type": "code",
   "execution_count": 14,
   "outputs": [
    {
     "name": "stdout",
     "output_type": "stream",
     "text": [
      "Data saved to cleaned_eeg_data.csv\n"
     ]
    },
    {
     "data": {
      "text/plain": "          Timestamp   Channel_1  Channel_2   Channel_3  Channel_4  Channel_5  \\\n0      61215.197585   -0.000656  -0.000899   -8.041068  -0.000292  -0.002567   \n1      61215.200918   -0.000635  -0.000877  -26.031161  -0.000045  -0.002524   \n2      61215.204251   -0.000613  -0.000855  -61.350246   0.000202  -0.002480   \n3      61215.207585   -0.000590  -0.000832 -105.558223   0.000455  -0.002435   \n4      61215.210918   -0.000567  -0.000809 -129.261696   0.000714  -0.002388   \n...             ...         ...        ...         ...        ...        ...   \n54187  61412.480918   71.855182   9.101630   -1.905722 -12.467333 -87.576242   \n54188  61412.484251  101.226060  18.817411   10.412924  -3.282155 -73.845764   \n54189  61412.487585  111.611772  15.366422   10.579166   0.624548 -76.672153   \n54190  61412.490918   84.796344   5.989761    2.138966   0.976709 -80.950502   \n54191  61412.494251   27.081164  -3.784123  -10.843008  -1.336925 -78.320677   \n\n       Channel_6  Channel_7  Channel_8  Channel_9  ...  Channel_15  \\\n0      -0.001797  -0.004917   0.002202   0.001178  ...    0.045235   \n1      -0.001719  -0.004966   0.002167   0.001179  ...    0.046480   \n2      -0.001641  -0.005014   0.002131   0.001179  ...    0.047720   \n3      -0.001560  -0.005063   0.002094   0.001179  ...    0.048983   \n4      -0.001478  -0.005112   0.002057   0.001180  ...    0.050267   \n...          ...        ...        ...        ...  ...         ...   \n54187 -14.456167  16.877790  15.496784 -18.105357  ...   -6.612259   \n54188   4.853901  49.327937  21.042239 -10.284187  ...    8.407107   \n54189  21.970027  61.486926  15.718234 -10.171323  ...   10.218605   \n54190  22.050302  47.922546   7.153477 -14.228533  ...    1.734016   \n54191   5.827189  14.832764  -0.234994 -19.384347  ...  -11.870700   \n\n       Channel_16  Channel_17  Channel_18  Channel_19  Channel_20  Channel_21  \\\n0        0.009640   -0.001454    0.004887    0.003217    0.000283         0.0   \n1        0.010293   -0.001278    0.004697    0.003128    0.000279         0.0   \n2        0.010944   -0.001102    0.004506    0.003038    0.000275         0.0   \n3        0.011610   -0.000921    0.004310    0.002946    0.000271         0.0   \n4        0.012290   -0.000737    0.004109    0.002851    0.000266         0.0   \n...           ...         ...         ...         ...         ...         ...   \n54187   13.409222   28.716738   -9.866168  -47.267876    5.259978         0.0   \n54188   30.455416   40.646625   -1.730396  -35.595621    5.961451         0.0   \n54189   33.782213   33.737081    1.134676  -33.420269    5.383325         0.0   \n54190   24.177597   13.994044   -1.151547  -34.908086    3.539768         0.0   \n54191    6.888945  -11.204858   -6.758013  -36.528589    1.432695         0.0   \n\n       Channel_22  Channel_23  Channel_24  \n0       -0.068090   -0.137459   -0.207612  \n1        0.054447   -0.356274   -0.044487  \n2        0.097343   -0.447097    0.025670  \n3        0.052113   -0.395176   -0.003606  \n4       -0.021422   -0.306945   -0.055442  \n...           ...         ...         ...  \n54187    0.426123    0.210139   -0.025385  \n54188    0.391161    0.335185    0.043381  \n54189    0.290169    0.407474    0.084188  \n54190    0.162502    0.299142    0.093218  \n54191    0.034138    0.032550    0.085297  \n\n[54192 rows x 25 columns]",
      "text/html": "<div>\n<style scoped>\n    .dataframe tbody tr th:only-of-type {\n        vertical-align: middle;\n    }\n\n    .dataframe tbody tr th {\n        vertical-align: top;\n    }\n\n    .dataframe thead th {\n        text-align: right;\n    }\n</style>\n<table border=\"1\" class=\"dataframe\">\n  <thead>\n    <tr style=\"text-align: right;\">\n      <th></th>\n      <th>Timestamp</th>\n      <th>Channel_1</th>\n      <th>Channel_2</th>\n      <th>Channel_3</th>\n      <th>Channel_4</th>\n      <th>Channel_5</th>\n      <th>Channel_6</th>\n      <th>Channel_7</th>\n      <th>Channel_8</th>\n      <th>Channel_9</th>\n      <th>...</th>\n      <th>Channel_15</th>\n      <th>Channel_16</th>\n      <th>Channel_17</th>\n      <th>Channel_18</th>\n      <th>Channel_19</th>\n      <th>Channel_20</th>\n      <th>Channel_21</th>\n      <th>Channel_22</th>\n      <th>Channel_23</th>\n      <th>Channel_24</th>\n    </tr>\n  </thead>\n  <tbody>\n    <tr>\n      <th>0</th>\n      <td>61215.197585</td>\n      <td>-0.000656</td>\n      <td>-0.000899</td>\n      <td>-8.041068</td>\n      <td>-0.000292</td>\n      <td>-0.002567</td>\n      <td>-0.001797</td>\n      <td>-0.004917</td>\n      <td>0.002202</td>\n      <td>0.001178</td>\n      <td>...</td>\n      <td>0.045235</td>\n      <td>0.009640</td>\n      <td>-0.001454</td>\n      <td>0.004887</td>\n      <td>0.003217</td>\n      <td>0.000283</td>\n      <td>0.0</td>\n      <td>-0.068090</td>\n      <td>-0.137459</td>\n      <td>-0.207612</td>\n    </tr>\n    <tr>\n      <th>1</th>\n      <td>61215.200918</td>\n      <td>-0.000635</td>\n      <td>-0.000877</td>\n      <td>-26.031161</td>\n      <td>-0.000045</td>\n      <td>-0.002524</td>\n      <td>-0.001719</td>\n      <td>-0.004966</td>\n      <td>0.002167</td>\n      <td>0.001179</td>\n      <td>...</td>\n      <td>0.046480</td>\n      <td>0.010293</td>\n      <td>-0.001278</td>\n      <td>0.004697</td>\n      <td>0.003128</td>\n      <td>0.000279</td>\n      <td>0.0</td>\n      <td>0.054447</td>\n      <td>-0.356274</td>\n      <td>-0.044487</td>\n    </tr>\n    <tr>\n      <th>2</th>\n      <td>61215.204251</td>\n      <td>-0.000613</td>\n      <td>-0.000855</td>\n      <td>-61.350246</td>\n      <td>0.000202</td>\n      <td>-0.002480</td>\n      <td>-0.001641</td>\n      <td>-0.005014</td>\n      <td>0.002131</td>\n      <td>0.001179</td>\n      <td>...</td>\n      <td>0.047720</td>\n      <td>0.010944</td>\n      <td>-0.001102</td>\n      <td>0.004506</td>\n      <td>0.003038</td>\n      <td>0.000275</td>\n      <td>0.0</td>\n      <td>0.097343</td>\n      <td>-0.447097</td>\n      <td>0.025670</td>\n    </tr>\n    <tr>\n      <th>3</th>\n      <td>61215.207585</td>\n      <td>-0.000590</td>\n      <td>-0.000832</td>\n      <td>-105.558223</td>\n      <td>0.000455</td>\n      <td>-0.002435</td>\n      <td>-0.001560</td>\n      <td>-0.005063</td>\n      <td>0.002094</td>\n      <td>0.001179</td>\n      <td>...</td>\n      <td>0.048983</td>\n      <td>0.011610</td>\n      <td>-0.000921</td>\n      <td>0.004310</td>\n      <td>0.002946</td>\n      <td>0.000271</td>\n      <td>0.0</td>\n      <td>0.052113</td>\n      <td>-0.395176</td>\n      <td>-0.003606</td>\n    </tr>\n    <tr>\n      <th>4</th>\n      <td>61215.210918</td>\n      <td>-0.000567</td>\n      <td>-0.000809</td>\n      <td>-129.261696</td>\n      <td>0.000714</td>\n      <td>-0.002388</td>\n      <td>-0.001478</td>\n      <td>-0.005112</td>\n      <td>0.002057</td>\n      <td>0.001180</td>\n      <td>...</td>\n      <td>0.050267</td>\n      <td>0.012290</td>\n      <td>-0.000737</td>\n      <td>0.004109</td>\n      <td>0.002851</td>\n      <td>0.000266</td>\n      <td>0.0</td>\n      <td>-0.021422</td>\n      <td>-0.306945</td>\n      <td>-0.055442</td>\n    </tr>\n    <tr>\n      <th>...</th>\n      <td>...</td>\n      <td>...</td>\n      <td>...</td>\n      <td>...</td>\n      <td>...</td>\n      <td>...</td>\n      <td>...</td>\n      <td>...</td>\n      <td>...</td>\n      <td>...</td>\n      <td>...</td>\n      <td>...</td>\n      <td>...</td>\n      <td>...</td>\n      <td>...</td>\n      <td>...</td>\n      <td>...</td>\n      <td>...</td>\n      <td>...</td>\n      <td>...</td>\n      <td>...</td>\n    </tr>\n    <tr>\n      <th>54187</th>\n      <td>61412.480918</td>\n      <td>71.855182</td>\n      <td>9.101630</td>\n      <td>-1.905722</td>\n      <td>-12.467333</td>\n      <td>-87.576242</td>\n      <td>-14.456167</td>\n      <td>16.877790</td>\n      <td>15.496784</td>\n      <td>-18.105357</td>\n      <td>...</td>\n      <td>-6.612259</td>\n      <td>13.409222</td>\n      <td>28.716738</td>\n      <td>-9.866168</td>\n      <td>-47.267876</td>\n      <td>5.259978</td>\n      <td>0.0</td>\n      <td>0.426123</td>\n      <td>0.210139</td>\n      <td>-0.025385</td>\n    </tr>\n    <tr>\n      <th>54188</th>\n      <td>61412.484251</td>\n      <td>101.226060</td>\n      <td>18.817411</td>\n      <td>10.412924</td>\n      <td>-3.282155</td>\n      <td>-73.845764</td>\n      <td>4.853901</td>\n      <td>49.327937</td>\n      <td>21.042239</td>\n      <td>-10.284187</td>\n      <td>...</td>\n      <td>8.407107</td>\n      <td>30.455416</td>\n      <td>40.646625</td>\n      <td>-1.730396</td>\n      <td>-35.595621</td>\n      <td>5.961451</td>\n      <td>0.0</td>\n      <td>0.391161</td>\n      <td>0.335185</td>\n      <td>0.043381</td>\n    </tr>\n    <tr>\n      <th>54189</th>\n      <td>61412.487585</td>\n      <td>111.611772</td>\n      <td>15.366422</td>\n      <td>10.579166</td>\n      <td>0.624548</td>\n      <td>-76.672153</td>\n      <td>21.970027</td>\n      <td>61.486926</td>\n      <td>15.718234</td>\n      <td>-10.171323</td>\n      <td>...</td>\n      <td>10.218605</td>\n      <td>33.782213</td>\n      <td>33.737081</td>\n      <td>1.134676</td>\n      <td>-33.420269</td>\n      <td>5.383325</td>\n      <td>0.0</td>\n      <td>0.290169</td>\n      <td>0.407474</td>\n      <td>0.084188</td>\n    </tr>\n    <tr>\n      <th>54190</th>\n      <td>61412.490918</td>\n      <td>84.796344</td>\n      <td>5.989761</td>\n      <td>2.138966</td>\n      <td>0.976709</td>\n      <td>-80.950502</td>\n      <td>22.050302</td>\n      <td>47.922546</td>\n      <td>7.153477</td>\n      <td>-14.228533</td>\n      <td>...</td>\n      <td>1.734016</td>\n      <td>24.177597</td>\n      <td>13.994044</td>\n      <td>-1.151547</td>\n      <td>-34.908086</td>\n      <td>3.539768</td>\n      <td>0.0</td>\n      <td>0.162502</td>\n      <td>0.299142</td>\n      <td>0.093218</td>\n    </tr>\n    <tr>\n      <th>54191</th>\n      <td>61412.494251</td>\n      <td>27.081164</td>\n      <td>-3.784123</td>\n      <td>-10.843008</td>\n      <td>-1.336925</td>\n      <td>-78.320677</td>\n      <td>5.827189</td>\n      <td>14.832764</td>\n      <td>-0.234994</td>\n      <td>-19.384347</td>\n      <td>...</td>\n      <td>-11.870700</td>\n      <td>6.888945</td>\n      <td>-11.204858</td>\n      <td>-6.758013</td>\n      <td>-36.528589</td>\n      <td>1.432695</td>\n      <td>0.0</td>\n      <td>0.034138</td>\n      <td>0.032550</td>\n      <td>0.085297</td>\n    </tr>\n  </tbody>\n</table>\n<p>54192 rows × 25 columns</p>\n</div>"
     },
     "execution_count": 14,
     "metadata": {},
     "output_type": "execute_result"
    }
   ],
   "source": [
    "import pandas as pd\n",
    "import json\n",
    "\n",
    "\n",
    "# Enhanced save function with more comprehensive metadata\n",
    "def save_processed_eeg_enhanced(eeg_data, timestamps, filename):\n",
    "    # Create DataFrame with timestamps\n",
    "    data_dict = {'Timestamp': timestamps}\n",
    "\n",
    "    # Add channel data with quality indicators and interpolation status\n",
    "    for i in range(eeg_data.shape[0]):\n",
    "        channel_name = f'Channel_{i+1}'\n",
    "        if i in bad_channels:\n",
    "            channel_name += '_interpolated'\n",
    "        data_dict[channel_name] = eeg_data[i, :]\n",
    "\n",
    "    df = pd.DataFrame(data_dict)\n",
    "\n",
    "    # Save data to CSV\n",
    "    csv_filename = f\"{filename}.csv\"\n",
    "    df.to_csv(csv_filename, index=False)\n",
    "\n",
    "    print(f\"Data saved to {csv_filename}\")\n",
    "\n",
    "    return df\n",
    "\n",
    "save_processed_eeg_enhanced(clean_eeg, clean_timestamps, \"cleaned_eeg_data\")"
   ],
   "metadata": {
    "collapsed": false,
    "pycharm": {
     "name": "#%%\n"
    },
    "ExecuteTime": {
     "end_time": "2024-12-05T20:42:02.610802200Z",
     "start_time": "2024-12-05T20:42:00.944029300Z"
    }
   }
  },
  {
   "cell_type": "code",
   "execution_count": null,
   "outputs": [],
   "source": [],
   "metadata": {
    "collapsed": false,
    "pycharm": {
     "name": "#%%\n"
    }
   }
  }
 ],
 "metadata": {
  "kernelspec": {
   "display_name": "Python 3",
   "language": "python",
   "name": "python3"
  },
  "language_info": {
   "codemirror_mode": {
    "name": "ipython",
    "version": 2
   },
   "file_extension": ".py",
   "mimetype": "text/x-python",
   "name": "python",
   "nbconvert_exporter": "python",
   "pygments_lexer": "ipython2",
   "version": "2.7.6"
  }
 },
 "nbformat": 4,
 "nbformat_minor": 0
}
